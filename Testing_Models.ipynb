{
 "cells": [
  {
   "cell_type": "code",
   "execution_count": 1,
   "id": "2066c956",
   "metadata": {},
   "outputs": [],
   "source": [
    "import string\n",
    "import pandas as pd\n",
    "from random import randint\n",
    "import soundfile as sf\n",
    "import librosa\n",
    "from zipfile import ZipFile\n",
    "from nltk import word_tokenize\n",
    "from pyunpack import Archive\n",
    "import patoolib\n",
    "import shutil\n",
    "import os\n",
    "import path\n",
    "from pathlib import Path\n",
    "import pydub\n",
    "import numpy as np\n",
    "from pydub import AudioSegment\n",
    "from os import path\n",
    "from sklearn.preprocessing import LabelEncoder\n",
    "from sklearn.model_selection import train_test_split\n",
    "from sklearn.preprocessing import StandardScaler\n",
    "from sklearn.preprocessing import MinMaxScaler\n",
    "#decision tree\n",
    "from sklearn import tree\n",
    "from sklearn.metrics import confusion_matrix\n",
    "from sklearn.metrics import accuracy_score\n",
    "from sklearn.metrics import f1_score\n",
    "from sklearn.metrics import classification_report \n",
    "#knn\n",
    "from sklearn.neighbors import KNeighborsClassifier\n",
    "from sklearn.metrics import confusion_matrix\n",
    "from sklearn.metrics import accuracy_score\n",
    "from sklearn.metrics import f1_score\n",
    "from sklearn.metrics import classification_report \n",
    "from sklearn.decomposition import PCA\n",
    "import joblib"
   ]
  },
  {
   "cell_type": "code",
   "execution_count": 2,
   "id": "d6c47f6a",
   "metadata": {},
   "outputs": [],
   "source": [
    "filename = 'KNN.joblib'\n",
    "knn = joblib.load(filename)"
   ]
  },
  {
   "cell_type": "code",
   "execution_count": 3,
   "id": "aaed7864",
   "metadata": {},
   "outputs": [],
   "source": [
    "filename = 'DecisionTree.joblib'\n",
    "dt = joblib.load(filename)"
   ]
  },
  {
   "cell_type": "code",
   "execution_count": 4,
   "id": "35bfa194",
   "metadata": {},
   "outputs": [],
   "source": [
    "filename = 'LogisticRegression.joblib'\n",
    "lr = joblib.load(filename)"
   ]
  },
  {
   "cell_type": "code",
   "execution_count": 5,
   "id": "b178525f",
   "metadata": {},
   "outputs": [],
   "source": [
    "filename = 'RandomForest.joblib'\n",
    "rf = joblib.load(filename)"
   ]
  },
  {
   "cell_type": "code",
   "execution_count": 6,
   "id": "d722b12a",
   "metadata": {},
   "outputs": [],
   "source": [
    "filename = 'SVM.joblib'\n",
    "svm = joblib.load(filename)"
   ]
  },
  {
   "cell_type": "code",
   "execution_count": 17,
   "id": "8edfc272",
   "metadata": {},
   "outputs": [],
   "source": [
    "os.chdir('/Users/abdullahkhan/Downloads')"
   ]
  },
  {
   "cell_type": "code",
   "execution_count": 24,
   "id": "6c866f22",
   "metadata": {},
   "outputs": [],
   "source": [
    "files = os.listdir()"
   ]
  },
  {
   "cell_type": "code",
   "execution_count": 30,
   "id": "e6d6a66d",
   "metadata": {},
   "outputs": [
    {
     "data": {
      "text/plain": [
       "'Tue, 21 Dec 2021 06_54_08 GMT.wav'"
      ]
     },
     "execution_count": 30,
     "metadata": {},
     "output_type": "execute_result"
    }
   ],
   "source": [
    "for i in range(len(files)):\n",
    "    if(files[i][-4:]) == '.wav':\n",
    "        file = files[i]\n",
    "file"
   ]
  },
  {
   "cell_type": "code",
   "execution_count": 48,
   "id": "d9998298",
   "metadata": {},
   "outputs": [
    {
     "data": {
      "text/html": [
       "<div>\n",
       "<style scoped>\n",
       "    .dataframe tbody tr th:only-of-type {\n",
       "        vertical-align: middle;\n",
       "    }\n",
       "\n",
       "    .dataframe tbody tr th {\n",
       "        vertical-align: top;\n",
       "    }\n",
       "\n",
       "    .dataframe thead th {\n",
       "        text-align: right;\n",
       "    }\n",
       "</style>\n",
       "<table border=\"1\" class=\"dataframe\">\n",
       "  <thead>\n",
       "    <tr style=\"text-align: right;\">\n",
       "      <th></th>\n",
       "      <th>0</th>\n",
       "      <th>1</th>\n",
       "      <th>2</th>\n",
       "      <th>3</th>\n",
       "      <th>4</th>\n",
       "      <th>5</th>\n",
       "      <th>6</th>\n",
       "      <th>7</th>\n",
       "      <th>8</th>\n",
       "      <th>9</th>\n",
       "      <th>...</th>\n",
       "      <th>4990</th>\n",
       "      <th>4991</th>\n",
       "      <th>4992</th>\n",
       "      <th>4993</th>\n",
       "      <th>4994</th>\n",
       "      <th>4995</th>\n",
       "      <th>4996</th>\n",
       "      <th>4997</th>\n",
       "      <th>4998</th>\n",
       "      <th>4999</th>\n",
       "    </tr>\n",
       "  </thead>\n",
       "  <tbody>\n",
       "    <tr>\n",
       "      <th>0</th>\n",
       "      <td>-587.14679</td>\n",
       "      <td>-587.14679</td>\n",
       "      <td>-587.14679</td>\n",
       "      <td>-559.746155</td>\n",
       "      <td>-529.087769</td>\n",
       "      <td>-519.309753</td>\n",
       "      <td>-545.559875</td>\n",
       "      <td>-536.993896</td>\n",
       "      <td>-502.29715</td>\n",
       "      <td>-472.462799</td>\n",
       "      <td>...</td>\n",
       "      <td>0.0</td>\n",
       "      <td>0.0</td>\n",
       "      <td>0.0</td>\n",
       "      <td>0.0</td>\n",
       "      <td>0.0</td>\n",
       "      <td>0.0</td>\n",
       "      <td>0.0</td>\n",
       "      <td>0.0</td>\n",
       "      <td>0.0</td>\n",
       "      <td>0.0</td>\n",
       "    </tr>\n",
       "  </tbody>\n",
       "</table>\n",
       "<p>1 rows × 5000 columns</p>\n",
       "</div>"
      ],
      "text/plain": [
       "        0          1          2           3           4           5     \\\n",
       "0 -587.14679 -587.14679 -587.14679 -559.746155 -529.087769 -519.309753   \n",
       "\n",
       "         6           7          8           9     ...  4990  4991  4992  4993  \\\n",
       "0 -545.559875 -536.993896 -502.29715 -472.462799  ...   0.0   0.0   0.0   0.0   \n",
       "\n",
       "   4994  4995  4996  4997  4998  4999  \n",
       "0   0.0   0.0   0.0   0.0   0.0   0.0  \n",
       "\n",
       "[1 rows x 5000 columns]"
      ]
     },
     "execution_count": 48,
     "metadata": {},
     "output_type": "execute_result"
    }
   ],
   "source": [
    "audio = f'{file}'\n",
    "X,samplerate = librosa.load(audio)\n",
    "mfccvalue = librosa.feature.mfcc(y=X, sr=samplerate)\n",
    "mfccvalue = mfccvalue.flatten()\n",
    "mfccvalue = list(mfccvalue)\n",
    "size = 5000 - len(mfccvalue)\n",
    "for i in range(size):\n",
    "    mfccvalue.append(0)\n",
    "data = pd.DataFrame(mfccvalue)\n",
    "data.T"
   ]
  },
  {
   "cell_type": "code",
   "execution_count": 50,
   "id": "253bf477",
   "metadata": {},
   "outputs": [
    {
     "data": {
      "text/plain": [
       "array(['0'], dtype=object)"
      ]
     },
     "execution_count": 50,
     "metadata": {},
     "output_type": "execute_result"
    }
   ],
   "source": [
    "predict = knn.predict(data.T)\n",
    "predict"
   ]
  },
  {
   "cell_type": "code",
   "execution_count": 51,
   "id": "b9cd4fbe",
   "metadata": {},
   "outputs": [
    {
     "data": {
      "text/plain": [
       "array(['0'], dtype=object)"
      ]
     },
     "execution_count": 51,
     "metadata": {},
     "output_type": "execute_result"
    }
   ],
   "source": [
    "predict = dt.predict(data.T)\n",
    "predict"
   ]
  },
  {
   "cell_type": "code",
   "execution_count": 52,
   "id": "6cad4f22",
   "metadata": {},
   "outputs": [
    {
     "data": {
      "text/plain": [
       "array(['3'], dtype=object)"
      ]
     },
     "execution_count": 52,
     "metadata": {},
     "output_type": "execute_result"
    }
   ],
   "source": [
    "predict = lr.predict(data.T)\n",
    "predict"
   ]
  },
  {
   "cell_type": "code",
   "execution_count": 53,
   "id": "90d98c7b",
   "metadata": {},
   "outputs": [
    {
     "data": {
      "text/plain": [
       "array(['1'], dtype=object)"
      ]
     },
     "execution_count": 53,
     "metadata": {},
     "output_type": "execute_result"
    }
   ],
   "source": [
    "predict = rf.predict(data.T)\n",
    "predict"
   ]
  },
  {
   "cell_type": "code",
   "execution_count": 54,
   "id": "1910d34f",
   "metadata": {},
   "outputs": [
    {
     "data": {
      "text/plain": [
       "array(['3'], dtype=object)"
      ]
     },
     "execution_count": 54,
     "metadata": {},
     "output_type": "execute_result"
    }
   ],
   "source": [
    "predict = svm.predict(data.T)\n",
    "predict"
   ]
  }
 ],
 "metadata": {
  "kernelspec": {
   "display_name": "Python 3 (ipykernel)",
   "language": "python",
   "name": "python3"
  },
  "language_info": {
   "codemirror_mode": {
    "name": "ipython",
    "version": 3
   },
   "file_extension": ".py",
   "mimetype": "text/x-python",
   "name": "python",
   "nbconvert_exporter": "python",
   "pygments_lexer": "ipython3",
   "version": "3.9.6"
  }
 },
 "nbformat": 4,
 "nbformat_minor": 5
}
